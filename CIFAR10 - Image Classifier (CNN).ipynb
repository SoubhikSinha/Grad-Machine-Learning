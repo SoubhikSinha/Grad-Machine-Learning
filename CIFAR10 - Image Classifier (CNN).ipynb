{
  "cells": [
    {
      "cell_type": "code",
      "execution_count": 1,
      "metadata": {
        "collapsed": false
      },
      "outputs": [],
      "source": [
        "# For tips on running notebooks in Google Colab, see\n",
        "# https://pytorch.org/tutorials/beginner/colab\n",
        "%matplotlib inline"
      ]
    },
    {
      "cell_type": "markdown",
      "metadata": {},
      "source": [
        "\n",
        "# Training a Classifier\n",
        "\n",
        "This is it. You have seen how to define neural networks, compute loss and make\n",
        "updates to the weights of the network.\n",
        "\n",
        "Now you might be thinking,\n",
        "\n",
        "## What about data?\n",
        "\n",
        "Generally, when you have to deal with image, text, audio or video data,\n",
        "you can use standard python packages that load data into a numpy array.\n",
        "Then you can convert this array into a ``torch.*Tensor``.\n",
        "\n",
        "-  For images, packages such as Pillow, OpenCV are useful\n",
        "-  For audio, packages such as scipy and librosa\n",
        "-  For text, either raw Python or Cython based loading, or NLTK and\n",
        "   SpaCy are useful\n",
        "\n",
        "Specifically for vision, we have created a package called\n",
        "``torchvision``, that has data loaders for common datasets such as\n",
        "ImageNet, CIFAR10, MNIST, etc. and data transformers for images, viz.,\n",
        "``torchvision.datasets`` and ``torch.utils.data.DataLoader``.\n",
        "\n",
        "This provides a huge convenience and avoids writing boilerplate code.\n",
        "\n",
        "For this tutorial, we will use the CIFAR10 dataset.\n",
        "It has the classes: ‘airplane’, ‘automobile’, ‘bird’, ‘cat’, ‘deer’,\n",
        "‘dog’, ‘frog’, ‘horse’, ‘ship’, ‘truck’. The images in CIFAR-10 are of\n",
        "size 3x32x32, i.e. 3-channel color images of 32x32 pixels in size.\n",
        "\n",
        ".. figure:: /_static/img/cifar10.png\n",
        "   :alt: cifar10\n",
        "\n",
        "   cifar10\n",
        "\n",
        "\n",
        "## Training an image classifier\n",
        "\n",
        "We will do the following steps in order:\n",
        "\n",
        "1. Load and normalize the CIFAR10 training and test datasets using\n",
        "   ``torchvision``\n",
        "2. Define a Convolutional Neural Network\n",
        "3. Define a loss function\n",
        "4. Train the network on the training data\n",
        "5. Test the network on the test data\n",
        "\n",
        "### 1. Load and normalize CIFAR10\n",
        "\n",
        "Using ``torchvision``, it’s extremely easy to load CIFAR10.\n"
      ]
    },
    {
      "cell_type": "code",
      "execution_count": 2,
      "metadata": {
        "collapsed": false
      },
      "outputs": [
        {
          "name": "stderr",
          "output_type": "stream",
          "text": [
            "C:\\Users\\dpsvn\\AppData\\Roaming\\Python\\Python311\\site-packages\\torchvision\\io\\image.py:13: UserWarning: Failed to load image Python extension: 'Could not find module 'C:\\Users\\dpsvn\\AppData\\Roaming\\Python\\Python311\\site-packages\\torchvision\\image.pyd' (or one of its dependencies). Try using the full path with constructor syntax.'If you don't plan on using image functionality from `torchvision.io`, you can ignore this warning. Otherwise, there might be something wrong with your environment. Did you have `libjpeg` or `libpng` installed before building `torchvision` from source?\n",
            "  warn(\n"
          ]
        }
      ],
      "source": [
        "import torch\n",
        "import torchvision\n",
        "import torchvision.transforms as transforms"
      ]
    },
    {
      "cell_type": "markdown",
      "metadata": {},
      "source": [
        "The output of torchvision datasets are PILImage images of range [0, 1].\n",
        "We transform them to Tensors of normalized range [-1, 1].\n",
        "\n"
      ]
    },
    {
      "cell_type": "markdown",
      "metadata": {},
      "source": [
        "<div class=\"alert alert-info\"><h4>Note</h4><p>If running on Windows and you get a BrokenPipeError, try setting\n",
        "    the num_worker of torch.utils.data.DataLoader() to 0.</p></div>\n",
        "\n"
      ]
    },
    {
      "cell_type": "code",
      "execution_count": 3,
      "metadata": {
        "collapsed": false
      },
      "outputs": [
        {
          "name": "stdout",
          "output_type": "stream",
          "text": [
            "Files already downloaded and verified\n",
            "Files already downloaded and verified\n"
          ]
        }
      ],
      "source": [
        "transform = transforms.Compose(\n",
        "    [transforms.ToTensor(),\n",
        "     transforms.Normalize((0.5, 0.5, 0.5), (0.5, 0.5, 0.5))])\n",
        "\n",
        "batch_size = 4\n",
        "\n",
        "trainset = torchvision.datasets.CIFAR10(root='./data', train=True,\n",
        "                                        download=True, transform=transform)\n",
        "'''\n",
        "trainloader = torch.utils.data.DataLoader(trainset, batch_size=batch_size,\n",
        "                                          shuffle=True, num_workers=2)\n",
        "'''\n",
        "trainloader = torch.utils.data.DataLoader(trainset, batch_size=batch_size,\n",
        "                                          shuffle=True, num_workers=0)\n",
        "\n",
        "testset = torchvision.datasets.CIFAR10(root='./data', train=False,\n",
        "                                       download=True, transform=transform)\n",
        "'''\n",
        "testloader = torch.utils.data.DataLoader(testset, batch_size=batch_size,\n",
        "                                         shuffle=False, num_workers=2)\n",
        "'''\n",
        "testloader = torch.utils.data.DataLoader(trainset, batch_size=batch_size,\n",
        "                                          shuffle=True, num_workers=0)\n",
        "\n",
        "classes = ('plane', 'car', 'bird', 'cat',\n",
        "           'deer', 'dog', 'frog', 'horse', 'ship', 'truck')"
      ]
    },
    {
      "cell_type": "markdown",
      "metadata": {},
      "source": [
        "Let us show some of the training images, for fun.\n",
        "\n"
      ]
    },
    {
      "cell_type": "code",
      "execution_count": 4,
      "metadata": {
        "collapsed": false
      },
      "outputs": [
        {
          "data": {
            "image/png": "[encoded data removed]",
            "text/plain": [
              "<Figure size 640x480 with 1 Axes>"
            ]
          },
          "metadata": {},
          "output_type": "display_data"
        },
        {
          "name": "stdout",
          "output_type": "stream",
          "text": [
            "deer  truck dog   deer \n"
          ]
        }
      ],
      "source": [
        "import matplotlib.pyplot as plt\n",
        "import numpy as np\n",
        "\n",
        "# functions to show an image\n",
        "\n",
        "\n",
        "def imshow(img):\n",
        "    img = img / 2 + 0.5     # unnormalize\n",
        "    npimg = img.numpy()\n",
        "    plt.imshow(np.transpose(npimg, (1, 2, 0)))\n",
        "    plt.show()\n",
        "\n",
        "\n",
        "# get some random training images\n",
        "dataiter = iter(trainloader)\n",
        "images, labels = next(dataiter)\n",
        "\n",
        "# show images\n",
        "imshow(torchvision.utils.make_grid(images))\n",
        "# print labels\n",
        "print(' '.join(f'{classes[labels[j]]:5s}' for j in range(batch_size)))"
      ]
    },
    {
      "cell_type": "markdown",
      "metadata": {},
      "source": [
        "### 2. Define a Convolutional Neural Network\n",
        "Copy the neural network from the Neural Networks section before and modify it to\n",
        "take 3-channel images (instead of 1-channel images as it was defined).\n",
        "\n"
      ]
    },
    {
      "cell_type": "code",
      "execution_count": 5,
      "metadata": {
        "collapsed": false
      },
      "outputs": [],
      "source": [
        "import torch.nn as nn\n",
        "import torch.nn.functional as F\n",
        "\n",
        "\n",
        "class Net(nn.Module):\n",
        "    def __init__(self):\n",
        "        super().__init__()\n",
        "        self.conv1 = nn.Conv2d(3, 6, 5)\n",
        "        self.pool = nn.MaxPool2d(2, 2)\n",
        "        self.conv2 = nn.Conv2d(6, 16, 5)\n",
        "        self.fc1 = nn.Linear(16 * 5 * 5, 120)\n",
        "        self.fc2 = nn.Linear(120, 84)\n",
        "        self.fc3 = nn.Linear(84, 10)\n",
        "\n",
        "    def forward(self, x):\n",
        "        x = self.pool(F.relu(self.conv1(x)))\n",
        "        x = self.pool(F.relu(self.conv2(x)))\n",
        "        x = torch.flatten(x, 1) # flatten all dimensions except batch\n",
        "        x = F.relu(self.fc1(x))\n",
        "        x = F.relu(self.fc2(x))\n",
        "        x = self.fc3(x)\n",
        "        return x\n",
        "\n",
        "\n",
        "net = Net()"
      ]
    },
    {
      "cell_type": "markdown",
      "metadata": {},
      "source": [
        "### 3. Define a Loss function and optimizer\n",
        "Let's use a Classification Cross-Entropy loss and SGD with momentum.\n",
        "\n"
      ]
    },
    {
      "cell_type": "code",
      "execution_count": 6,
      "metadata": {
        "collapsed": false
      },
      "outputs": [],
      "source": [
        "import torch.optim as optim\n",
        "\n",
        "criterion = nn.CrossEntropyLoss()\n",
        "optimizer = optim.SGD(net.parameters(), lr=0.001, momentum=0.9)"
      ]
    },
    {
      "cell_type": "markdown",
      "metadata": {},
      "source": [
        "### 4. Train the network\n",
        "\n",
        "This is when things start to get interesting.\n",
        "We simply have to loop over our data iterator, and feed the inputs to the\n",
        "network and optimize.\n",
        "\n"
      ]
    },
    {
      "cell_type": "code",
      "execution_count": 7,
      "metadata": {
        "collapsed": false
      },
      "outputs": [
        {
          "name": "stdout",
          "output_type": "stream",
          "text": [
            "[1,  2000] loss: 2.209\n",
            "[1,  4000] loss: 1.849\n",
            "[1,  6000] loss: 1.650\n",
            "[1,  8000] loss: 1.573\n",
            "[1, 10000] loss: 1.534\n",
            "[1, 12000] loss: 1.475\n",
            "[2,  2000] loss: 1.386\n",
            "[2,  4000] loss: 1.386\n",
            "[2,  6000] loss: 1.349\n",
            "[2,  8000] loss: 1.315\n",
            "[2, 10000] loss: 1.301\n",
            "[2, 12000] loss: 1.296\n",
            "Finished Training\n"
          ]
        }
      ],
      "source": [
        "for epoch in range(2):  # loop over the dataset multiple times\n",
        "\n",
        "    running_loss = 0.0\n",
        "    for i, data in enumerate(trainloader, 0):\n",
        "        # get the inputs; data is a list of [inputs, labels]\n",
        "        inputs, labels = data\n",
        "\n",
        "        # zero the parameter gradients\n",
        "        optimizer.zero_grad()\n",
        "\n",
        "        # forward + backward + optimize\n",
        "        outputs = net(inputs)\n",
        "        loss = criterion(outputs, labels)\n",
        "        loss.backward()\n",
        "        optimizer.step()\n",
        "\n",
        "        # print statistics\n",
        "        running_loss += loss.item()\n",
        "        if i % 2000 == 1999:    # print every 2000 mini-batches\n",
        "            print(f'[{epoch + 1}, {i + 1:5d}] loss: {running_loss / 2000:.3f}')\n",
        "            running_loss = 0.0\n",
        "\n",
        "print('Finished Training')"
      ]
    },
    {
      "cell_type": "markdown",
      "metadata": {},
      "source": [
        "Let's quickly save our trained model:\n",
        "\n"
      ]
    },
    {
      "cell_type": "code",
      "execution_count": 8,
      "metadata": {
        "collapsed": false
      },
      "outputs": [],
      "source": [
        "PATH = './cifar_net.pth'\n",
        "torch.save(net.state_dict(), PATH)"
      ]
    },
    {
      "cell_type": "markdown",
      "metadata": {},
      "source": [
        "See [here](https://pytorch.org/docs/stable/notes/serialization.html)\n",
        "for more details on saving PyTorch models.\n",
        "\n",
        "### 5. Test the network on the test data\n",
        "\n",
        "We have trained the network for 2 passes over the training dataset.\n",
        "But we need to check if the network has learnt anything at all.\n",
        "\n",
        "We will check this by predicting the class label that the neural network\n",
        "outputs, and checking it against the ground-truth. If the prediction is\n",
        "correct, we add the sample to the list of correct predictions.\n",
        "\n",
        "Okay, first step. Let us display an image from the test set to get familiar.\n",
        "\n"
      ]
    },
    {
      "cell_type": "code",
      "execution_count": 9,
      "metadata": {
        "collapsed": false
      },
      "outputs": [
        {
          "data": {
            "image/png": "[encoded data removed]",
            "text/plain": [
              "<Figure size 640x480 with 1 Axes>"
            ]
          },
          "metadata": {},
          "output_type": "display_data"
        },
        {
          "name": "stdout",
          "output_type": "stream",
          "text": [
            "GroundTruth:  cat   truck plane car  \n"
          ]
        }
      ],
      "source": [
        "dataiter = iter(testloader)\n",
        "images, labels = next(dataiter)\n",
        "\n",
        "# print images\n",
        "imshow(torchvision.utils.make_grid(images))\n",
        "print('GroundTruth: ', ' '.join(f'{classes[labels[j]]:5s}' for j in range(4)))"
      ]
    },
    {
      "cell_type": "markdown",
      "metadata": {},
      "source": [
        "Next, let's load back in our saved model (note: saving and re-loading the model\n",
        "wasn't necessary here, we only did it to illustrate how to do so):\n",
        "\n"
      ]
    },
    {
      "cell_type": "code",
      "execution_count": 10,
      "metadata": {
        "collapsed": false
      },
      "outputs": [
        {
          "data": {
            "text/plain": [
              "<All keys matched successfully>"
            ]
          },
          "execution_count": 10,
          "metadata": {},
          "output_type": "execute_result"
        }
      ],
      "source": [
        "net = Net()\n",
        "net.load_state_dict(torch.load(PATH))"
      ]
    },
    {
      "cell_type": "markdown",
      "metadata": {},
      "source": [
        "Okay, now let us see what the neural network thinks these examples above are:\n",
        "\n"
      ]
    },
    {
      "cell_type": "code",
      "execution_count": 11,
      "metadata": {
        "collapsed": false
      },
      "outputs": [],
      "source": [
        "outputs = net(images)"
      ]
    },
    {
      "cell_type": "markdown",
      "metadata": {},
      "source": [
        "The outputs are energies for the 10 classes.\n",
        "The higher the energy for a class, the more the network\n",
        "thinks that the image is of the particular class.\n",
        "So, let's get the index of the highest energy:\n",
        "\n"
      ]
    },
    {
      "cell_type": "code",
      "execution_count": 12,
      "metadata": {
        "collapsed": false
      },
      "outputs": [
        {
          "name": "stdout",
          "output_type": "stream",
          "text": [
            "Predicted:  dog   truck ship  car  \n"
          ]
        }
      ],
      "source": [
        "_, predicted = torch.max(outputs, 1)\n",
        "\n",
        "print('Predicted: ', ' '.join(f'{classes[predicted[j]]:5s}'\n",
        "                              for j in range(4)))"
      ]
    },
    {
      "cell_type": "markdown",
      "metadata": {},
      "source": [
        "The results seem pretty good.\n",
        "\n",
        "Let us look at how the network performs on the whole dataset.\n",
        "\n"
      ]
    },
    {
      "cell_type": "code",
      "execution_count": 13,
      "metadata": {
        "collapsed": false
      },
      "outputs": [
        {
          "name": "stdout",
          "output_type": "stream",
          "text": [
            "Accuracy of the network on the 10000 test images: 56 %\n"
          ]
        }
      ],
      "source": [
        "correct = 0\n",
        "total = 0\n",
        "# since we're not training, we don't need to calculate the gradients for our outputs\n",
        "with torch.no_grad():\n",
        "    for data in testloader:\n",
        "        images, labels = data\n",
        "        # calculate outputs by running images through the network\n",
        "        outputs = net(images)\n",
        "        # the class with the highest energy is what we choose as prediction\n",
        "        _, predicted = torch.max(outputs.data, 1)\n",
        "        total += labels.size(0)\n",
        "        correct += (predicted == labels).sum().item()\n",
        "\n",
        "print(f'Accuracy of the network on the 10000 test images: {100 * correct // total} %')"
      ]
    },
    {
      "cell_type": "markdown",
      "metadata": {},
      "source": [
        "That looks way better than chance, which is 10% accuracy (randomly picking\n",
        "a class out of 10 classes).\n",
        "Seems like the network learnt something.\n",
        "\n",
        "Hmmm, what are the classes that performed well, and the classes that did\n",
        "not perform well:\n",
        "\n"
      ]
    },
    {
      "cell_type": "code",
      "execution_count": 14,
      "metadata": {
        "collapsed": false
      },
      "outputs": [
        {
          "name": "stdout",
          "output_type": "stream",
          "text": [
            "Accuracy for class: plane is 58.1 %\n",
            "Accuracy for class: car   is 84.0 %\n",
            "Accuracy for class: bird  is 50.0 %\n",
            "Accuracy for class: cat   is 24.2 %\n",
            "Accuracy for class: deer  is 34.6 %\n",
            "Accuracy for class: dog   is 66.8 %\n",
            "Accuracy for class: frog  is 70.7 %\n",
            "Accuracy for class: horse is 52.3 %\n",
            "Accuracy for class: ship  is 63.9 %\n",
            "Accuracy for class: truck is 57.6 %\n"
          ]
        }
      ],
      "source": [
        "# prepare to count predictions for each class\n",
        "correct_pred = {classname: 0 for classname in classes}\n",
        "total_pred = {classname: 0 for classname in classes}\n",
        "\n",
        "# again no gradients needed\n",
        "with torch.no_grad():\n",
        "    for data in testloader:\n",
        "        images, labels = data\n",
        "        outputs = net(images)\n",
        "        _, predictions = torch.max(outputs, 1)\n",
        "        # collect the correct predictions for each class\n",
        "        for label, prediction in zip(labels, predictions):\n",
        "            if label == prediction:\n",
        "                correct_pred[classes[label]] += 1\n",
        "            total_pred[classes[label]] += 1\n",
        "\n",
        "\n",
        "# print accuracy for each class\n",
        "for classname, correct_count in correct_pred.items():\n",
        "    accuracy = 100 * float(correct_count) / total_pred[classname]\n",
        "    print(f'Accuracy for class: {classname:5s} is {accuracy:.1f} %')"
      ]
    },
    {
      "cell_type": "markdown",
      "metadata": {},
      "source": [
        "Okay, so what next?\n",
        "\n",
        "How do we run these neural networks on the GPU?\n",
        "\n",
        "## Training on GPU\n",
        "Just like how you transfer a Tensor onto the GPU, you transfer the neural\n",
        "net onto the GPU.\n",
        "\n",
        "Let's first define our device as the first visible cuda device if we have\n",
        "CUDA available:\n",
        "\n"
      ]
    },
    {
      "cell_type": "code",
      "execution_count": 15,
      "metadata": {
        "collapsed": false
      },
      "outputs": [
        {
          "name": "stdout",
          "output_type": "stream",
          "text": [
            "cpu\n"
          ]
        }
      ],
      "source": [
        "device = torch.device('cuda:0' if torch.cuda.is_available() else 'cpu')\n",
        "\n",
        "# Assuming that we are on a CUDA machine, this should print a CUDA device:\n",
        "\n",
        "print(device)"
      ]
    },
    {
      "cell_type": "markdown",
      "metadata": {},
      "source": [
        "The rest of this section assumes that ``device`` is a CUDA device.\n",
        "\n",
        "Then these methods will recursively go over all modules and convert their\n",
        "parameters and buffers to CUDA tensors:\n",
        "\n",
        ".. code:: python\n",
        "\n",
        "    net.to(device)\n",
        "\n",
        "\n",
        "Remember that you will have to send the inputs and targets at every step\n",
        "to the GPU too:\n",
        "\n",
        ".. code:: python\n",
        "\n",
        "        inputs, labels = data[0].to(device), data[1].to(device)\n",
        "\n",
        "Why don't I notice MASSIVE speedup compared to CPU? Because your network\n",
        "is really small.\n",
        "\n",
        "**Exercise:** Try increasing the width of your network (argument 2 of\n",
        "the first ``nn.Conv2d``, and argument 1 of the second ``nn.Conv2d`` –\n",
        "they need to be the same number), see what kind of speedup you get.\n",
        "\n",
        "**Goals achieved**:\n",
        "\n",
        "- Understanding PyTorch's Tensor library and neural networks at a high level.\n",
        "- Train a small neural network to classify images\n",
        "\n",
        "## Training on multiple GPUs\n",
        "If you want to see even more MASSIVE speedup using all of your GPUs,\n",
        "please check out :doc:`data_parallel_tutorial`.\n",
        "\n",
        "## Where do I go next?\n",
        "\n",
        "-  :doc:`Train neural nets to play video games </intermediate/reinforcement_q_learning>`\n",
        "-  `Train a state-of-the-art ResNet network on imagenet`_\n",
        "-  `Train a face generator using Generative Adversarial Networks`_\n",
        "-  `Train a word-level language model using Recurrent LSTM networks`_\n",
        "-  `More examples`_\n",
        "-  `More tutorials`_\n",
        "-  `Discuss PyTorch on the Forums`_\n",
        "-  `Chat with other users on Slack`_\n",
        "\n",
        "\n"
      ]
    },
    {
      "cell_type": "code",
      "execution_count": 16,
      "metadata": {
        "collapsed": false
      },
      "outputs": [],
      "source": [
        "del dataiter"
      ]
    },
    {
      "cell_type": "code",
      "execution_count": null,
      "metadata": {},
      "outputs": [],
      "source": []
    },
    {
      "cell_type": "code",
      "execution_count": null,
      "metadata": {},
      "outputs": [],
      "source": []
    },
    {
      "cell_type": "markdown",
      "metadata": {},
      "source": [
        "### <b>Hyperparameters changing</b>"
      ]
    },
    {
      "cell_type": "markdown",
      "metadata": {},
      "source": [
        "Based on the last part of the tutorial “Training a classifier”. Provide the results of\n",
        "the neural network setup using your own THREE different sets of parameters\n",
        "(consider changing the number of layers, number of nodes, activation function,\n",
        "optimizer, etc.).<br><br>\n",
        "Accuracy will not be considered as a priority for this task. The primary motivation\n",
        "is for you to explore how different NN setups influence the accuracy of the model.\n",
        "<br><br>\n",
        "Include the following information for each hyperparameter set:<br>\n",
        "• Number of layers<br>\n",
        "• Number of nodes per layer<br>\n",
        "• Activation function<br>\n",
        "• Optimizer<br>\n",
        "• Learning rate<br>\n",
        "• Accuracy on training set<br>\n",
        "• Accuracy on validation set"
      ]
    },
    {
      "cell_type": "markdown",
      "metadata": {},
      "source": [
        "<br>\n",
        "<br>\n",
        "PARAMETER SET : 1 "
      ]
    },
    {
      "cell_type": "code",
      "execution_count": 17,
      "metadata": {},
      "outputs": [],
      "source": [
        "class Net(nn.Module):\n",
        "    def __init__(self):\n",
        "        super().__init__()\n",
        "        self.conv1 = nn.Conv2d(3, 6, 5)\n",
        "        self.pool = nn.MaxPool2d(2, 2)\n",
        "        self.conv2 = nn.Conv2d(6, 16, 5)\n",
        "        self.fc1 = nn.Linear(16 * 5 * 5, 240)  # Increased nodes in fc1 layer\n",
        "        self.fc2 = nn.Linear(240, 160)  # Increased nodes in fc2 layer\n",
        "        self.fc3 = nn.Linear(160, 84)\n",
        "        self.fc4 = nn.Linear(84, 10)  # Additional fully connected layer\n",
        "\n",
        "    def forward(self, x):\n",
        "        x = self.pool(F.leaky_relu(self.conv1(x)))  # Leaky ReLU activation\n",
        "        x = self.pool(F.leaky_relu(self.conv2(x)))  # Leaky ReLU activation\n",
        "        x = torch.flatten(x, 1)  # flatten all dimensions except batch\n",
        "        x = F.leaky_relu(self.fc1(x))  # Leaky ReLU activation\n",
        "        x = F.leaky_relu(self.fc2(x))  # Leaky ReLU activation\n",
        "        x = F.relu(self.fc3(x))  # ReLU activation\n",
        "        x = self.fc4(x)\n",
        "        return x\n",
        "\n",
        "\n",
        "net = Net()"
      ]
    },
    {
      "cell_type": "code",
      "execution_count": 18,
      "metadata": {},
      "outputs": [],
      "source": [
        "criterion = nn.CrossEntropyLoss()\n",
        "optimizer = optim.Adam(net.parameters(), lr=0.06)  # Adam optimizer"
      ]
    },
    {
      "cell_type": "code",
      "execution_count": 19,
      "metadata": {},
      "outputs": [
        {
          "name": "stdout",
          "output_type": "stream",
          "text": [
            "[1,  2000] loss: 8386.179\n",
            "[1,  4000] loss: 815522.366\n",
            "[1,  6000] loss: 2.325\n",
            "[1,  8000] loss: 2.327\n",
            "[1, 10000] loss: 2.327\n",
            "[1, 12000] loss: 2.327\n",
            "[2,  2000] loss: 6351547.390\n",
            "[2,  4000] loss: 2862.541\n",
            "[2,  6000] loss: 2.326\n",
            "[2,  8000] loss: 2.326\n",
            "[2, 10000] loss: 2.326\n",
            "[2, 12000] loss: 4066024.467\n",
            "Finished Training\n"
          ]
        }
      ],
      "source": [
        "for epoch in range(2):  # loop over the dataset multiple times\n",
        "\n",
        "    running_loss = 0.0\n",
        "    for i, data in enumerate(trainloader, 0):\n",
        "        # get the inputs; data is a list of [inputs, labels]\n",
        "        inputs, labels = data\n",
        "\n",
        "        # zero the parameter gradients\n",
        "        optimizer.zero_grad()\n",
        "\n",
        "        # forward + backward + optimize\n",
        "        outputs = net(inputs)\n",
        "        loss = criterion(outputs, labels)\n",
        "        loss.backward()\n",
        "        optimizer.step()\n",
        "\n",
        "        # print statistics\n",
        "        running_loss += loss.item()\n",
        "        if i % 2000 == 1999:    # print every 2000 mini-batches\n",
        "            print(f'[{epoch + 1}, {i + 1:5d}] loss: {running_loss / 2000:.3f}')\n",
        "            running_loss = 0.0\n",
        "\n",
        "print('Finished Training')"
      ]
    },
    {
      "cell_type": "code",
      "execution_count": 20,
      "metadata": {},
      "outputs": [],
      "source": [
        "PATH = './cifar_net.pth'\n",
        "torch.save(net.state_dict(), PATH)"
      ]
    },
    {
      "cell_type": "code",
      "execution_count": 21,
      "metadata": {},
      "outputs": [
        {
          "data": {
            "image/png": "[encoded data removed]",
            "text/plain": [
              "<Figure size 640x480 with 1 Axes>"
            ]
          },
          "metadata": {},
          "output_type": "display_data"
        },
        {
          "name": "stdout",
          "output_type": "stream",
          "text": [
            "GroundTruth:  horse bird  dog   bird \n"
          ]
        }
      ],
      "source": [
        "dataiter = iter(testloader)\n",
        "images, labels = next(dataiter)\n",
        "\n",
        "# print images\n",
        "imshow(torchvision.utils.make_grid(images))\n",
        "print('GroundTruth: ', ' '.join(f'{classes[labels[j]]:5s}' for j in range(4)))"
      ]
    },
    {
      "cell_type": "code",
      "execution_count": 22,
      "metadata": {},
      "outputs": [
        {
          "data": {
            "text/plain": [
              "<All keys matched successfully>"
            ]
          },
          "execution_count": 22,
          "metadata": {},
          "output_type": "execute_result"
        }
      ],
      "source": [
        "net = Net()\n",
        "net.load_state_dict(torch.load(PATH))"
      ]
    },
    {
      "cell_type": "code",
      "execution_count": 23,
      "metadata": {},
      "outputs": [],
      "source": [
        "outputs = net(images)"
      ]
    },
    {
      "cell_type": "code",
      "execution_count": 24,
      "metadata": {},
      "outputs": [
        {
          "name": "stdout",
          "output_type": "stream",
          "text": [
            "Predicted:  frog  frog  frog  frog \n"
          ]
        }
      ],
      "source": [
        "_, predicted = torch.max(outputs, 1)\n",
        "\n",
        "print('Predicted: ', ' '.join(f'{classes[predicted[j]]:5s}'\n",
        "                              for j in range(4)))"
      ]
    },
    {
      "cell_type": "code",
      "execution_count": 25,
      "metadata": {},
      "outputs": [
        {
          "name": "stdout",
          "output_type": "stream",
          "text": [
            "Accuracy of the network on the 10000 test images: 10 %\n"
          ]
        }
      ],
      "source": [
        "correct = 0\n",
        "total = 0\n",
        "# since we're not training, we don't need to calculate the gradients for our outputs\n",
        "with torch.no_grad():\n",
        "    for data in testloader:\n",
        "        images, labels = data\n",
        "        # calculate outputs by running images through the network\n",
        "        outputs = net(images)\n",
        "        # the class with the highest energy is what we choose as prediction\n",
        "        _, predicted = torch.max(outputs.data, 1)\n",
        "        total += labels.size(0)\n",
        "        correct += (predicted == labels).sum().item()\n",
        "\n",
        "print(f'Accuracy of the network on the 10000 test images: {100 * correct // total} %')"
      ]
    },
    {
      "cell_type": "code",
      "execution_count": 26,
      "metadata": {},
      "outputs": [
        {
          "name": "stdout",
          "output_type": "stream",
          "text": [
            "Accuracy for class: plane is 0.0 %\n",
            "Accuracy for class: car   is 0.0 %\n",
            "Accuracy for class: bird  is 0.0 %\n",
            "Accuracy for class: cat   is 0.0 %\n",
            "Accuracy for class: deer  is 0.0 %\n",
            "Accuracy for class: dog   is 0.0 %\n",
            "Accuracy for class: frog  is 100.0 %\n",
            "Accuracy for class: horse is 0.0 %\n",
            "Accuracy for class: ship  is 0.0 %\n",
            "Accuracy for class: truck is 0.0 %\n"
          ]
        }
      ],
      "source": [
        "# prepare to count predictions for each class\n",
        "correct_pred = {classname: 0 for classname in classes}\n",
        "total_pred = {classname: 0 for classname in classes}\n",
        "\n",
        "# again no gradients needed\n",
        "with torch.no_grad():\n",
        "    for data in testloader:\n",
        "        images, labels = data\n",
        "        outputs = net(images)\n",
        "        _, predictions = torch.max(outputs, 1)\n",
        "        # collect the correct predictions for each class\n",
        "        for label, prediction in zip(labels, predictions):\n",
        "            if label == prediction:\n",
        "                correct_pred[classes[label]] += 1\n",
        "            total_pred[classes[label]] += 1\n",
        "\n",
        "\n",
        "# print accuracy for each class\n",
        "for classname, correct_count in correct_pred.items():\n",
        "    accuracy = 100 * float(correct_count) / total_pred[classname]\n",
        "    print(f'Accuracy for class: {classname:5s} is {accuracy:.1f} %')"
      ]
    },
    {
      "cell_type": "markdown",
      "metadata": {},
      "source": [
        "<br>\n",
        "<br>\n",
        "PARAMETER SET : 2 "
      ]
    },
    {
      "cell_type": "code",
      "execution_count": 27,
      "metadata": {},
      "outputs": [],
      "source": [
        "class Net(nn.Module):\n",
        "    def __init__(self):\n",
        "        super().__init__()\n",
        "        self.conv1 = nn.Conv2d(3, 6, 5)\n",
        "        self.pool = nn.MaxPool2d(2, 2)\n",
        "        self.conv2 = nn.Conv2d(6, 16, 5)\n",
        "        self.fc1 = nn.Linear(16 * 5 * 5, 84)  # Reduced nodes in fc1 layer\n",
        "        self.fc2 = nn.Linear(84, 10)\n",
        "\n",
        "    def forward(self, x):\n",
        "        x = self.pool(F.tanh(self.conv1(x)))  # Tanh activation\n",
        "        x = self.pool(F.tanh(self.conv2(x)))  # Tanh activation\n",
        "        x = torch.flatten(x, 1)  # flatten all dimensions except batch\n",
        "        x = F.relu(self.fc1(x))  # ReLU activation\n",
        "        x = self.fc2(x)\n",
        "        return x\n",
        "    \n",
        "net = Net()"
      ]
    },
    {
      "cell_type": "code",
      "execution_count": 28,
      "metadata": {},
      "outputs": [],
      "source": [
        "criterion = nn.CrossEntropyLoss()\n",
        "optimizer = optim.RMSprop(net.parameters(), lr=0.0021)  # RMSprop optimizer"
      ]
    },
    {
      "cell_type": "code",
      "execution_count": 29,
      "metadata": {},
      "outputs": [
        {
          "name": "stdout",
          "output_type": "stream",
          "text": [
            "[1,  2000] loss: 1.801\n",
            "[1,  4000] loss: 1.626\n",
            "[1,  6000] loss: 1.576\n",
            "[1,  8000] loss: 1.552\n",
            "[1, 10000] loss: 1.536\n",
            "[1, 12000] loss: 1.498\n",
            "[2,  2000] loss: 1.445\n",
            "[2,  4000] loss: 1.441\n",
            "[2,  6000] loss: 1.466\n",
            "[2,  8000] loss: 1.454\n",
            "[2, 10000] loss: 1.462\n",
            "[2, 12000] loss: 1.444\n",
            "Finished Training\n"
          ]
        }
      ],
      "source": [
        "for epoch in range(2):  # loop over the dataset multiple times\n",
        "\n",
        "    running_loss = 0.0\n",
        "    for i, data in enumerate(trainloader, 0):\n",
        "        # get the inputs; data is a list of [inputs, labels]\n",
        "        inputs, labels = data\n",
        "\n",
        "        # zero the parameter gradients\n",
        "        optimizer.zero_grad()\n",
        "\n",
        "        # forward + backward + optimize\n",
        "        outputs = net(inputs)\n",
        "        loss = criterion(outputs, labels)\n",
        "        loss.backward()\n",
        "        optimizer.step()\n",
        "\n",
        "        # print statistics\n",
        "        running_loss += loss.item()\n",
        "        if i % 2000 == 1999:    # print every 2000 mini-batches\n",
        "            print(f'[{epoch + 1}, {i + 1:5d}] loss: {running_loss / 2000:.3f}')\n",
        "            running_loss = 0.0\n",
        "\n",
        "print('Finished Training')"
      ]
    },
    {
      "cell_type": "code",
      "execution_count": 30,
      "metadata": {},
      "outputs": [],
      "source": [
        "PATH = './cifar_net.pth'\n",
        "torch.save(net.state_dict(), PATH)"
      ]
    },
    {
      "cell_type": "code",
      "execution_count": 31,
      "metadata": {},
      "outputs": [
        {
          "data": {
            "image/png": "[encoded data removed]",
            "text/plain": [
              "<Figure size 640x480 with 1 Axes>"
            ]
          },
          "metadata": {},
          "output_type": "display_data"
        },
        {
          "name": "stdout",
          "output_type": "stream",
          "text": [
            "GroundTruth:  frog  bird  cat   horse\n"
          ]
        }
      ],
      "source": [
        "dataiter = iter(testloader)\n",
        "images, labels = next(dataiter)\n",
        "\n",
        "# print images\n",
        "imshow(torchvision.utils.make_grid(images))\n",
        "print('GroundTruth: ', ' '.join(f'{classes[labels[j]]:5s}' for j in range(4)))"
      ]
    },
    {
      "cell_type": "code",
      "execution_count": 32,
      "metadata": {},
      "outputs": [
        {
          "data": {
            "text/plain": [
              "<All keys matched successfully>"
            ]
          },
          "execution_count": 32,
          "metadata": {},
          "output_type": "execute_result"
        }
      ],
      "source": [
        "net = Net()\n",
        "net.load_state_dict(torch.load(PATH))"
      ]
    },
    {
      "cell_type": "code",
      "execution_count": 33,
      "metadata": {},
      "outputs": [],
      "source": [
        "outputs = net(images)"
      ]
    },
    {
      "cell_type": "code",
      "execution_count": 34,
      "metadata": {},
      "outputs": [
        {
          "name": "stdout",
          "output_type": "stream",
          "text": [
            "Predicted:  car   plane truck horse\n"
          ]
        }
      ],
      "source": [
        "_, predicted = torch.max(outputs, 1)\n",
        "\n",
        "print('Predicted: ', ' '.join(f'{classes[predicted[j]]:5s}'\n",
        "                              for j in range(4)))"
      ]
    },
    {
      "cell_type": "code",
      "execution_count": 35,
      "metadata": {},
      "outputs": [
        {
          "name": "stdout",
          "output_type": "stream",
          "text": [
            "Accuracy of the network on the 10000 test images: 50 %\n"
          ]
        }
      ],
      "source": [
        "correct = 0\n",
        "total = 0\n",
        "# since we're not training, we don't need to calculate the gradients for our outputs\n",
        "with torch.no_grad():\n",
        "    for data in testloader:\n",
        "        images, labels = data\n",
        "        # calculate outputs by running images through the network\n",
        "        outputs = net(images)\n",
        "        # the class with the highest energy is what we choose as prediction\n",
        "        _, predicted = torch.max(outputs.data, 1)\n",
        "        total += labels.size(0)\n",
        "        correct += (predicted == labels).sum().item()\n",
        "\n",
        "print(f'Accuracy of the network on the 10000 test images: {100 * correct // total} %')"
      ]
    },
    {
      "cell_type": "code",
      "execution_count": 36,
      "metadata": {},
      "outputs": [
        {
          "name": "stdout",
          "output_type": "stream",
          "text": [
            "Accuracy for class: plane is 60.7 %\n",
            "Accuracy for class: car   is 68.8 %\n",
            "Accuracy for class: bird  is 36.6 %\n",
            "Accuracy for class: cat   is 47.7 %\n",
            "Accuracy for class: deer  is 55.6 %\n",
            "Accuracy for class: dog   is 14.9 %\n",
            "Accuracy for class: frog  is 64.2 %\n",
            "Accuracy for class: horse is 54.2 %\n",
            "Accuracy for class: ship  is 54.6 %\n",
            "Accuracy for class: truck is 49.2 %\n"
          ]
        }
      ],
      "source": [
        "# prepare to count predictions for each class\n",
        "correct_pred = {classname: 0 for classname in classes}\n",
        "total_pred = {classname: 0 for classname in classes}\n",
        "\n",
        "# again no gradients needed\n",
        "with torch.no_grad():\n",
        "    for data in testloader:\n",
        "        images, labels = data\n",
        "        outputs = net(images)\n",
        "        _, predictions = torch.max(outputs, 1)\n",
        "        # collect the correct predictions for each class\n",
        "        for label, prediction in zip(labels, predictions):\n",
        "            if label == prediction:\n",
        "                correct_pred[classes[label]] += 1\n",
        "            total_pred[classes[label]] += 1\n",
        "\n",
        "\n",
        "# print accuracy for each class\n",
        "for classname, correct_count in correct_pred.items():\n",
        "    accuracy = 100 * float(correct_count) / total_pred[classname]\n",
        "    print(f'Accuracy for class: {classname:5s} is {accuracy:.1f} %')"
      ]
    },
    {
      "cell_type": "markdown",
      "metadata": {},
      "source": [
        "<br>\n",
        "<br>\n",
        "PARAMETER SET : 3"
      ]
    },
    {
      "cell_type": "code",
      "execution_count": 37,
      "metadata": {},
      "outputs": [
        {
          "name": "stdout",
          "output_type": "stream",
          "text": [
            "Files already downloaded and verified\n",
            "Files already downloaded and verified\n"
          ]
        }
      ],
      "source": [
        "transform = transforms.Compose(\n",
        "    [transforms.ToTensor(),\n",
        "     transforms.Normalize((0.5, 0.5, 0.5), (0.5, 0.5, 0.5))])\n",
        "\n",
        "batch_size = 4\n",
        "\n",
        "trainset = torchvision.datasets.CIFAR10(root='./data', train=True,\n",
        "                                        download=True, transform=transform)\n",
        "trainloader = torch.utils.data.DataLoader(trainset, batch_size=batch_size,\n",
        "                                          shuffle=True, num_workers=2)\n",
        "\n",
        "testset = torchvision.datasets.CIFAR10(root='./data', train=False,\n",
        "                                       download=True, transform=transform)\n",
        "testloader = torch.utils.data.DataLoader(testset, batch_size=batch_size,\n",
        "                                         shuffle=False, num_workers=2)\n",
        "\n",
        "classes = ('plane', 'car', 'bird', 'cat',\n",
        "           'deer', 'dog', 'frog', 'horse', 'ship', 'truck')"
      ]
    },
    {
      "cell_type": "code",
      "execution_count": 38,
      "metadata": {},
      "outputs": [
        {
          "data": {
            "image/png": "[encoded data removed]",
            "text/plain": [
              "<Figure size 640x480 with 1 Axes>"
            ]
          },
          "metadata": {},
          "output_type": "display_data"
        },
        {
          "name": "stdout",
          "output_type": "stream",
          "text": [
            "plane bird  deer  cat  \n"
          ]
        }
      ],
      "source": [
        "def imshow(img):\n",
        "    img = img / 2 + 0.5     # unnormalize\n",
        "    npimg = img.numpy()\n",
        "    plt.imshow(np.transpose(npimg, (1, 2, 0)))\n",
        "    plt.show()\n",
        "\n",
        "\n",
        "# get some random training images\n",
        "dataiter = iter(trainloader)\n",
        "images, labels = next(dataiter)\n",
        "\n",
        "# show images\n",
        "imshow(torchvision.utils.make_grid(images))\n",
        "# print labels\n",
        "print(' '.join(f'{classes[labels[j]]:5s}' for j in range(batch_size)))"
      ]
    },
    {
      "cell_type": "code",
      "execution_count": 39,
      "metadata": {},
      "outputs": [],
      "source": [
        "class Net(nn.Module):\n",
        "    def __init__(self):\n",
        "        super().__init__()\n",
        "        self.conv1 = nn.Conv2d(3, 6, 5)\n",
        "        self.pool = nn.MaxPool2d(2, 2)\n",
        "        self.conv2 = nn.Conv2d(6, 16, 5)\n",
        "        self.fc1 = nn.Linear(16 * 5 * 5, 120)\n",
        "        self.fc2 = nn.Linear(120, 84)\n",
        "        self.fc3 = nn.Linear(84, 10)\n",
        "\n",
        "    def forward(self, x):\n",
        "        x = self.pool(F.relu(self.conv1(x)))\n",
        "        x = self.pool(F.relu(self.conv2(x)))\n",
        "        x = torch.flatten(x, 1) # flatten all dimensions except batch\n",
        "        x = F.relu(self.fc1(x))\n",
        "        x = F.relu(self.fc2(x))\n",
        "        x = self.fc3(x)\n",
        "        return x\n",
        "\n",
        "\n",
        "net = Net()"
      ]
    },
    {
      "cell_type": "code",
      "execution_count": 40,
      "metadata": {},
      "outputs": [],
      "source": [
        "criterion = nn.CrossEntropyLoss()\n",
        "optimizer = optim.RMSprop(net.parameters(), lr=0.0005)  # RMSprop optimizer"
      ]
    },
    {
      "cell_type": "code",
      "execution_count": 41,
      "metadata": {},
      "outputs": [
        {
          "name": "stdout",
          "output_type": "stream",
          "text": [
            "[1,  2000] loss: 1.869\n",
            "[1,  4000] loss: 1.608\n",
            "[1,  6000] loss: 1.529\n",
            "[1,  8000] loss: 1.448\n",
            "[1, 10000] loss: 1.387\n",
            "[1, 12000] loss: 1.360\n",
            "[2,  2000] loss: 1.282\n",
            "[2,  4000] loss: 1.279\n",
            "[2,  6000] loss: 1.258\n",
            "[2,  8000] loss: 1.211\n",
            "[2, 10000] loss: 1.231\n",
            "[2, 12000] loss: 1.202\n",
            "Finished Training\n"
          ]
        }
      ],
      "source": [
        "for epoch in range(2):  # loop over the dataset multiple times\n",
        "\n",
        "    running_loss = 0.0\n",
        "    for i, data in enumerate(trainloader, 0):\n",
        "        # get the inputs; data is a list of [inputs, labels]\n",
        "        inputs, labels = data\n",
        "\n",
        "        # zero the parameter gradients\n",
        "        optimizer.zero_grad()\n",
        "\n",
        "        # forward + backward + optimize\n",
        "        outputs = net(inputs)\n",
        "        loss = criterion(outputs, labels)\n",
        "        loss.backward()\n",
        "        optimizer.step()\n",
        "\n",
        "        # print statistics\n",
        "        running_loss += loss.item()\n",
        "        if i % 2000 == 1999:    # print every 2000 mini-batches\n",
        "            print(f'[{epoch + 1}, {i + 1:5d}] loss: {running_loss / 2000:.3f}')\n",
        "            running_loss = 0.0\n",
        "\n",
        "print('Finished Training')"
      ]
    },
    {
      "cell_type": "code",
      "execution_count": 42,
      "metadata": {},
      "outputs": [],
      "source": [
        "PATH = './cifar_net.pth'\n",
        "torch.save(net.state_dict(), PATH)"
      ]
    },
    {
      "cell_type": "code",
      "execution_count": 43,
      "metadata": {},
      "outputs": [
        {
          "data": {
            "image/png": "[encoded data removed]",
            "text/plain": [
              "<Figure size 640x480 with 1 Axes>"
            ]
          },
          "metadata": {},
          "output_type": "display_data"
        },
        {
          "name": "stdout",
          "output_type": "stream",
          "text": [
            "GroundTruth:  cat   ship  ship  plane\n"
          ]
        }
      ],
      "source": [
        "dataiter = iter(testloader)\n",
        "images, labels = next(dataiter)\n",
        "\n",
        "# print images\n",
        "imshow(torchvision.utils.make_grid(images))\n",
        "print('GroundTruth: ', ' '.join(f'{classes[labels[j]]:5s}' for j in range(4)))"
      ]
    },
    {
      "cell_type": "code",
      "execution_count": 44,
      "metadata": {},
      "outputs": [
        {
          "data": {
            "text/plain": [
              "<All keys matched successfully>"
            ]
          },
          "execution_count": 44,
          "metadata": {},
          "output_type": "execute_result"
        }
      ],
      "source": [
        "net = Net()\n",
        "net.load_state_dict(torch.load(PATH))"
      ]
    },
    {
      "cell_type": "code",
      "execution_count": 45,
      "metadata": {},
      "outputs": [],
      "source": [
        "outputs = net(images)"
      ]
    },
    {
      "cell_type": "code",
      "execution_count": 46,
      "metadata": {},
      "outputs": [
        {
          "name": "stdout",
          "output_type": "stream",
          "text": [
            "Predicted:  cat   ship  truck plane\n"
          ]
        }
      ],
      "source": [
        "_, predicted = torch.max(outputs, 1)\n",
        "\n",
        "print('Predicted: ', ' '.join(f'{classes[predicted[j]]:5s}'\n",
        "                              for j in range(4)))"
      ]
    },
    {
      "cell_type": "code",
      "execution_count": 47,
      "metadata": {},
      "outputs": [
        {
          "name": "stdout",
          "output_type": "stream",
          "text": [
            "Accuracy of the network on the 10000 test images: 54 %\n"
          ]
        }
      ],
      "source": [
        "correct = 0\n",
        "total = 0\n",
        "# since we're not training, we don't need to calculate the gradients for our outputs\n",
        "with torch.no_grad():\n",
        "    for data in testloader:\n",
        "        images, labels = data\n",
        "        # calculate outputs by running images through the network\n",
        "        outputs = net(images)\n",
        "        # the class with the highest energy is what we choose as prediction\n",
        "        _, predicted = torch.max(outputs.data, 1)\n",
        "        total += labels.size(0)\n",
        "        correct += (predicted == labels).sum().item()\n",
        "\n",
        "print(f'Accuracy of the network on the 10000 test images: {100 * correct // total} %')"
      ]
    },
    {
      "cell_type": "code",
      "execution_count": 48,
      "metadata": {},
      "outputs": [
        {
          "name": "stdout",
          "output_type": "stream",
          "text": [
            "Accuracy for class: plane is 55.1 %\n",
            "Accuracy for class: car   is 47.4 %\n",
            "Accuracy for class: bird  is 40.3 %\n",
            "Accuracy for class: cat   is 45.0 %\n",
            "Accuracy for class: deer  is 43.4 %\n",
            "Accuracy for class: dog   is 53.0 %\n",
            "Accuracy for class: frog  is 50.6 %\n",
            "Accuracy for class: horse is 60.0 %\n",
            "Accuracy for class: ship  is 71.7 %\n",
            "Accuracy for class: truck is 81.4 %\n"
          ]
        }
      ],
      "source": [
        "# prepare to count predictions for each class\n",
        "correct_pred = {classname: 0 for classname in classes}\n",
        "total_pred = {classname: 0 for classname in classes}\n",
        "\n",
        "# again no gradients needed\n",
        "with torch.no_grad():\n",
        "    for data in testloader:\n",
        "        images, labels = data\n",
        "        outputs = net(images)\n",
        "        _, predictions = torch.max(outputs, 1)\n",
        "        # collect the correct predictions for each class\n",
        "        for label, prediction in zip(labels, predictions):\n",
        "            if label == prediction:\n",
        "                correct_pred[classes[label]] += 1\n",
        "            total_pred[classes[label]] += 1\n",
        "\n",
        "\n",
        "# print accuracy for each class\n",
        "for classname, correct_count in correct_pred.items():\n",
        "    accuracy = 100 * float(correct_count) / total_pred[classname]\n",
        "    print(f'Accuracy for class: {classname:5s} is {accuracy:.1f} %')"
      ]
    },
    {
      "cell_type": "markdown",
      "metadata": {},
      "source": [
        "<br>\n",
        "\n",
        "### <b>Optuna Tuning</b>"
      ]
    },
    {
      "cell_type": "markdown",
      "metadata": {},
      "source": [
        "Using Optuna find the best hyperparameter values for the model you built. These\n",
        "values should result in higher accuracies, more than what was achieved in the\n",
        "previous task.<br><br>\n",
        "Include the following information for your Optuna tuning results:<br>\n",
        "• Best hyperparameter values<br>\n",
        "• Accuracy on training set<br>\n",
        "• Accuracy on validation set"
      ]
    },
    {
      "cell_type": "code",
      "execution_count": 60,
      "metadata": {},
      "outputs": [
        {
          "name": "stderr",
          "output_type": "stream",
          "text": [
            "[I 2023-10-01 22:54:38,664] A new study created in memory with name: no-name-b64d8dc4-31b2-42ff-a8ea-b490016b8e97\n"
          ]
        },
        {
          "name": "stdout",
          "output_type": "stream",
          "text": [
            "[1,  2000] loss: 2.280\n",
            "[1,  4000] loss: 2.150\n",
            "[1,  6000] loss: 2.051\n",
            "[1,  8000] loss: 1.997\n",
            "[1, 10000] loss: 1.962\n",
            "[1, 12000] loss: 1.923\n",
            "[2,  2000] loss: 1.883\n",
            "[2,  4000] loss: 1.847\n",
            "[2,  6000] loss: 1.828\n",
            "[2,  8000] loss: 1.800\n",
            "[2, 10000] loss: 1.777\n",
            "[2, 12000] loss: 1.758\n"
          ]
        },
        {
          "name": "stderr",
          "output_type": "stream",
          "text": [
            "[I 2023-10-01 22:56:53,058] Trial 0 finished with value: 36.964 and parameters: {'lr': 1.9392367362687677e-05, 'momentum': 0.09606387465918365}. Best is trial 0 with value: 36.964.\n"
          ]
        },
        {
          "name": "stdout",
          "output_type": "stream",
          "text": [
            "[1,  2000] loss: 1.866\n",
            "[1,  4000] loss: 1.605\n",
            "[1,  6000] loss: 1.518\n",
            "[1,  8000] loss: 1.477\n",
            "[1, 10000] loss: 1.419\n",
            "[1, 12000] loss: 1.385\n",
            "[2,  2000] loss: 1.308\n",
            "[2,  4000] loss: 1.283\n",
            "[2,  6000] loss: 1.255\n",
            "[2,  8000] loss: 1.247\n",
            "[2, 10000] loss: 1.231\n",
            "[2, 12000] loss: 1.210\n"
          ]
        },
        {
          "name": "stderr",
          "output_type": "stream",
          "text": [
            "[I 2023-10-01 22:59:16,633] Trial 1 finished with value: 59.782 and parameters: {'lr': 0.0002752822592374485, 'momentum': 0.4977219702871657}. Best is trial 1 with value: 59.782.\n"
          ]
        },
        {
          "name": "stdout",
          "output_type": "stream",
          "text": [
            "[1,  2000] loss: 2.294\n",
            "[1,  4000] loss: 2.245\n",
            "[1,  6000] loss: 2.160\n",
            "[1,  8000] loss: 2.117\n",
            "[1, 10000] loss: 2.062\n",
            "[1, 12000] loss: 2.024\n",
            "[2,  2000] loss: 1.977\n",
            "[2,  4000] loss: 1.967\n",
            "[2,  6000] loss: 1.925\n",
            "[2,  8000] loss: 1.916\n",
            "[2, 10000] loss: 1.898\n",
            "[2, 12000] loss: 1.871\n"
          ]
        },
        {
          "name": "stderr",
          "output_type": "stream",
          "text": [
            "[I 2023-10-01 23:01:42,553] Trial 2 finished with value: 32.694 and parameters: {'lr': 1.2261144307828946e-05, 'momentum': 0.0033326416067259723}. Best is trial 1 with value: 59.782.\n"
          ]
        },
        {
          "name": "stdout",
          "output_type": "stream",
          "text": [
            "[1,  2000] loss: 1.948\n",
            "[1,  4000] loss: 1.719\n",
            "[1,  6000] loss: 1.684\n",
            "[1,  8000] loss: 1.649\n",
            "[1, 10000] loss: 1.587\n",
            "[1, 12000] loss: 1.608\n",
            "[2,  2000] loss: 1.527\n",
            "[2,  4000] loss: 1.580\n",
            "[2,  6000] loss: 1.562\n",
            "[2,  8000] loss: 1.548\n",
            "[2, 10000] loss: 1.548\n",
            "[2, 12000] loss: 1.539\n"
          ]
        },
        {
          "name": "stderr",
          "output_type": "stream",
          "text": [
            "[I 2023-10-01 23:04:08,838] Trial 3 finished with value: 48.518 and parameters: {'lr': 0.001825169578542712, 'momentum': 0.23098092843310314}. Best is trial 1 with value: 59.782.\n"
          ]
        },
        {
          "name": "stdout",
          "output_type": "stream",
          "text": [
            "[1,  2000] loss: 2.000\n",
            "[1,  4000] loss: 1.800\n",
            "[1,  6000] loss: 1.713\n",
            "[1,  8000] loss: 1.670\n",
            "[1, 10000] loss: 1.651\n",
            "[1, 12000] loss: 1.641\n",
            "[2,  2000] loss: 1.628\n",
            "[2,  4000] loss: 1.622\n",
            "[2,  6000] loss: 1.594\n",
            "[2,  8000] loss: 1.595\n",
            "[2, 10000] loss: 1.573\n",
            "[2, 12000] loss: 1.598\n"
          ]
        },
        {
          "name": "stderr",
          "output_type": "stream",
          "text": [
            "[I 2023-10-01 23:06:43,801] Trial 4 finished with value: 45.098 and parameters: {'lr': 0.001076145145448684, 'momentum': 0.5930889948361712}. Best is trial 1 with value: 59.782.\n"
          ]
        },
        {
          "name": "stdout",
          "output_type": "stream",
          "text": [
            "[1,  2000] loss: 2.128\n",
            "[1,  4000] loss: 1.947\n",
            "[1,  6000] loss: 1.886\n",
            "[1,  8000] loss: 1.820\n",
            "[1, 10000] loss: 1.780\n",
            "[1, 12000] loss: 1.724\n",
            "[2,  2000] loss: 1.682\n",
            "[2,  4000] loss: 1.645\n",
            "[2,  6000] loss: 1.644\n",
            "[2,  8000] loss: 1.620\n",
            "[2, 10000] loss: 1.592\n",
            "[2, 12000] loss: 1.564\n"
          ]
        },
        {
          "name": "stderr",
          "output_type": "stream",
          "text": [
            "[I 2023-10-01 23:09:59,026] Trial 5 finished with value: 43.67 and parameters: {'lr': 4.854364657862162e-05, 'momentum': 0.17543062456374936}. Best is trial 1 with value: 59.782.\n"
          ]
        },
        {
          "name": "stdout",
          "output_type": "stream",
          "text": [
            "[1,  2000] loss: 2.076\n",
            "[1,  4000] loss: 1.853\n",
            "[1,  6000] loss: 1.804\n",
            "[1,  8000] loss: 1.813\n",
            "[1, 10000] loss: 1.758\n",
            "[1, 12000] loss: 1.767\n",
            "[2,  2000] loss: 1.741\n",
            "[2,  4000] loss: 1.744\n",
            "[2,  6000] loss: 1.725\n",
            "[2,  8000] loss: 1.727\n",
            "[2, 10000] loss: 1.737\n",
            "[2, 12000] loss: 1.717\n"
          ]
        },
        {
          "name": "stderr",
          "output_type": "stream",
          "text": [
            "[I 2023-10-01 23:13:14,189] Trial 6 finished with value: 34.79 and parameters: {'lr': 0.002375929268826719, 'momentum': 0.35278069446199745}. Best is trial 1 with value: 59.782.\n"
          ]
        },
        {
          "name": "stdout",
          "output_type": "stream",
          "text": [
            "[1,  2000] loss: 2.338\n",
            "[1,  4000] loss: 2.314\n",
            "[1,  6000] loss: 2.315\n",
            "[1,  8000] loss: 2.317\n",
            "[1, 10000] loss: 2.313\n",
            "[1, 12000] loss: 2.313\n",
            "[2,  2000] loss: 2.313\n",
            "[2,  4000] loss: 2.315\n",
            "[2,  6000] loss: 2.315\n",
            "[2,  8000] loss: 2.313\n",
            "[2, 10000] loss: 2.315\n",
            "[2, 12000] loss: 2.314\n"
          ]
        },
        {
          "name": "stderr",
          "output_type": "stream",
          "text": [
            "[I 2023-10-01 23:16:35,202] Trial 7 finished with value: 10.0 and parameters: {'lr': 0.0017087978016149309, 'momentum': 0.942350381793548}. Best is trial 1 with value: 59.782.\n"
          ]
        },
        {
          "name": "stdout",
          "output_type": "stream",
          "text": [
            "[1,  2000] loss: 2.141\n",
            "[1,  4000] loss: 1.932\n",
            "[1,  6000] loss: 1.859\n",
            "[1,  8000] loss: 1.767\n",
            "[1, 10000] loss: 1.754\n",
            "[1, 12000] loss: 1.712\n",
            "[2,  2000] loss: 1.682\n",
            "[2,  4000] loss: 1.652\n",
            "[2,  6000] loss: 1.627\n",
            "[2,  8000] loss: 1.598\n",
            "[2, 10000] loss: 1.581\n",
            "[2, 12000] loss: 1.572\n"
          ]
        },
        {
          "name": "stderr",
          "output_type": "stream",
          "text": [
            "[I 2023-10-01 23:19:06,046] Trial 8 finished with value: 43.874 and parameters: {'lr': 1.4906886124042066e-05, 'momentum': 0.709378334529947}. Best is trial 1 with value: 59.782.\n"
          ]
        },
        {
          "name": "stdout",
          "output_type": "stream",
          "text": [
            "[1,  2000] loss: 1.969\n",
            "[1,  4000] loss: 1.801\n",
            "[1,  6000] loss: 1.771\n",
            "[1,  8000] loss: 1.735\n",
            "[1, 10000] loss: 1.732\n",
            "[1, 12000] loss: 1.720\n",
            "[2,  2000] loss: 1.691\n",
            "[2,  4000] loss: 1.717\n",
            "[2,  6000] loss: 1.689\n",
            "[2,  8000] loss: 1.707\n",
            "[2, 10000] loss: 1.701\n",
            "[2, 12000] loss: 1.718\n"
          ]
        },
        {
          "name": "stderr",
          "output_type": "stream",
          "text": [
            "[I 2023-10-01 23:24:16,358] Trial 9 finished with value: 37.464 and parameters: {'lr': 0.0024254425554922176, 'momentum': 0.26899712535519427}. Best is trial 1 with value: 59.782.\n"
          ]
        },
        {
          "name": "stdout",
          "output_type": "stream",
          "text": [
            "Best hyperparameters:\n",
            "{'lr': 0.0002752822592374485, 'momentum': 0.4977219702871657}\n",
            "Best Training Accuracy: 59.782\n"
          ]
        }
      ],
      "source": [
        "import optuna\n",
        "import torch.optim as optim\n",
        "\n",
        "# Define the objective function that Optuna will optimize\n",
        "def objective(trial):\n",
        "    # Defining the search space for hyperparameters\n",
        "    learning_rate = trial.suggest_float(\"lr\", 1e-5, 1e-2, log=True)  # Learning rate\n",
        "    momentum = trial.suggest_float(\"momentum\", 0.0, 1.0)  # Momentum for RMSprop\n",
        "\n",
        "    # Creating a new model and optimizer with the suggested hyperparameters\n",
        "    neural_net = Net()\n",
        "    optimizer = optim.RMSprop(neural_net.parameters(), lr=learning_rate, momentum=momentum)\n",
        "\n",
        "    # Training the loop\n",
        "    for epoch in range(2):\n",
        "        running_loss = 0.0\n",
        "        for k, data_points in enumerate(trainloader, 0):\n",
        "            inputs, labels = data_points\n",
        "            optimizer.zero_grad()\n",
        "            output_values = neural_net(inputs)\n",
        "            loss = criterion(output_values, labels)\n",
        "            loss.backward()\n",
        "            optimizer.step()\n",
        "            running_loss += loss.item()\n",
        "            if k % 2000 == 1999:\n",
        "                print(f'[{epoch + 1}, {k + 1:5d}] loss: {running_loss / 2000:.3f}')\n",
        "                running_loss = 0.0\n",
        "\n",
        "    # Calculating accuracy on the training set\n",
        "    correct_values = 0\n",
        "    total_values = 0\n",
        "    with torch.no_grad():\n",
        "        for data_points in trainloader:\n",
        "            pics, labels = data_points\n",
        "            output_values = neural_net(pics)\n",
        "            _, predicted = torch.max(output_values.data, 1)\n",
        "            total_values += labels.size(0)\n",
        "            correct_values += (predicted == labels).sum().item()\n",
        "    training_accuracy = 100 * correct_values / total_values\n",
        "\n",
        "    # Calculating accuracy on the validation set\n",
        "    correct_values = 0\n",
        "    total_values = 0\n",
        "    with torch.no_grad():\n",
        "        for data_points in testloader:\n",
        "            pics, labels = data_points\n",
        "            output_values = neural_net(pics)\n",
        "            _, predicted = torch.max(output_values.data, 1)\n",
        "            total_values += labels.size(0)\n",
        "            correct_values += (predicted == labels).sum().item()\n",
        "    validation_accuracy = 100 * correct_values / total_values\n",
        "\n",
        "    # Returning the validation accuracy & training accuracy as the objective values to be maximized\n",
        "    return training_accuracy\n",
        "\n",
        "# Creating an Optuna study and optimize the objective function\n",
        "study = optuna.create_study(direction=\"maximize\")\n",
        "study.optimize(objective, n_trials=10)\n",
        "\n",
        "\n",
        "# Printing the best hyperparameter values and results\n",
        "print(\"Best hyperparameters:\")\n",
        "best_params = study.best_params\n",
        "print(best_params)\n",
        "\n",
        "print(\"Best Training Accuracy:\", study.best_value)"
      ]
    },
    {
      "cell_type": "code",
      "execution_count": null,
      "metadata": {},
      "outputs": [],
      "source": [
        "# Even before applying Optuna, I had acheived 100% accuracy when I used\n",
        "# parameter set : 2. \n",
        "\n",
        "'''\n",
        "# I cannot take many trials because of the limitations of my local device (I \n",
        "# have run all the python notebooks on my local machine)\n",
        "'''"
      ]
    },
    {
      "cell_type": "code",
      "execution_count": 61,
      "metadata": {},
      "outputs": [
        {
          "name": "stderr",
          "output_type": "stream",
          "text": [
            "[I 2023-10-01 23:24:16,392] A new study created in memory with name: no-name-1bf7a42f-5840-4628-bd53-b4099f8c2a35\n"
          ]
        },
        {
          "name": "stdout",
          "output_type": "stream",
          "text": [
            "[1,  2000] loss: 2.101\n",
            "[1,  4000] loss: 1.887\n",
            "[1,  6000] loss: 1.760\n",
            "[1,  8000] loss: 1.713\n",
            "[1, 10000] loss: 1.664\n",
            "[1, 12000] loss: 1.622\n",
            "[2,  2000] loss: 1.563\n",
            "[2,  4000] loss: 1.545\n",
            "[2,  6000] loss: 1.529\n",
            "[2,  8000] loss: 1.499\n",
            "[2, 10000] loss: 1.480\n",
            "[2, 12000] loss: 1.454\n"
          ]
        },
        {
          "name": "stderr",
          "output_type": "stream",
          "text": [
            "[I 2023-10-01 23:30:07,315] Trial 0 finished with value: 49.76 and parameters: {'lr': 6.133028609422214e-05, 'momentum': 0.4864661069932843}. Best is trial 0 with value: 49.76.\n"
          ]
        },
        {
          "name": "stdout",
          "output_type": "stream",
          "text": [
            "[1,  2000] loss: 2.326\n",
            "[1,  4000] loss: 2.315\n",
            "[1,  6000] loss: 2.315\n",
            "[1,  8000] loss: 2.316\n",
            "[1, 10000] loss: 2.314\n",
            "[1, 12000] loss: 2.316\n",
            "[2,  2000] loss: 2.315\n",
            "[2,  4000] loss: 2.316\n",
            "[2,  6000] loss: 2.315\n",
            "[2,  8000] loss: 2.317\n",
            "[2, 10000] loss: 2.316\n",
            "[2, 12000] loss: 2.316\n"
          ]
        },
        {
          "name": "stderr",
          "output_type": "stream",
          "text": [
            "[I 2023-10-01 23:36:54,720] Trial 1 finished with value: 10.0 and parameters: {'lr': 0.003732905329751434, 'momentum': 0.8950583834940486}. Best is trial 0 with value: 49.76.\n"
          ]
        },
        {
          "name": "stdout",
          "output_type": "stream",
          "text": [
            "[1,  2000] loss: 2.071\n",
            "[1,  4000] loss: 1.882\n",
            "[1,  6000] loss: 1.788\n",
            "[1,  8000] loss: 1.729\n",
            "[1, 10000] loss: 1.673\n",
            "[1, 12000] loss: 1.635\n",
            "[2,  2000] loss: 1.592\n",
            "[2,  4000] loss: 1.583\n",
            "[2,  6000] loss: 1.563\n",
            "[2,  8000] loss: 1.556\n",
            "[2, 10000] loss: 1.514\n",
            "[2, 12000] loss: 1.490\n"
          ]
        },
        {
          "name": "stderr",
          "output_type": "stream",
          "text": [
            "[I 2023-10-01 23:42:50,371] Trial 2 finished with value: 46.39 and parameters: {'lr': 4.377029951505523e-05, 'momentum': 0.4224395587929902}. Best is trial 0 with value: 49.76.\n"
          ]
        },
        {
          "name": "stdout",
          "output_type": "stream",
          "text": [
            "[1,  2000] loss: 3.234\n",
            "[1,  4000] loss: 2.310\n",
            "[1,  6000] loss: 2.311\n",
            "[1,  8000] loss: 2.310\n",
            "[1, 10000] loss: 2.310\n",
            "[1, 12000] loss: 2.311\n",
            "[2,  2000] loss: 2.310\n",
            "[2,  4000] loss: 2.311\n",
            "[2,  6000] loss: 2.312\n",
            "[2,  8000] loss: 2.310\n",
            "[2, 10000] loss: 2.312\n",
            "[2, 12000] loss: 2.310\n"
          ]
        },
        {
          "name": "stderr",
          "output_type": "stream",
          "text": [
            "[I 2023-10-01 23:49:44,007] Trial 3 finished with value: 10.0 and parameters: {'lr': 0.0038171241548925214, 'momentum': 0.8288891557894352}. Best is trial 0 with value: 49.76.\n"
          ]
        },
        {
          "name": "stdout",
          "output_type": "stream",
          "text": [
            "[1,  2000] loss: 1.859\n",
            "[1,  4000] loss: 1.573\n",
            "[1,  6000] loss: 1.521\n",
            "[1,  8000] loss: 1.454\n",
            "[1, 10000] loss: 1.422\n",
            "[1, 12000] loss: 1.401\n",
            "[2,  2000] loss: 1.320\n",
            "[2,  4000] loss: 1.323\n",
            "[2,  6000] loss: 1.321\n",
            "[2,  8000] loss: 1.313\n",
            "[2, 10000] loss: 1.342\n",
            "[2, 12000] loss: 1.316\n"
          ]
        },
        {
          "name": "stderr",
          "output_type": "stream",
          "text": [
            "[I 2023-10-01 23:55:55,721] Trial 4 finished with value: 50.99 and parameters: {'lr': 0.0004819200308439877, 'momentum': 0.5530948537356425}. Best is trial 4 with value: 50.99.\n"
          ]
        },
        {
          "name": "stdout",
          "output_type": "stream",
          "text": [
            "[1,  2000] loss: 1.889\n",
            "[1,  4000] loss: 1.598\n",
            "[1,  6000] loss: 1.517\n",
            "[1,  8000] loss: 1.461\n",
            "[1, 10000] loss: 1.408\n",
            "[1, 12000] loss: 1.374\n",
            "[2,  2000] loss: 1.308\n",
            "[2,  4000] loss: 1.296\n",
            "[2,  6000] loss: 1.270\n",
            "[2,  8000] loss: 1.281\n",
            "[2, 10000] loss: 1.243\n",
            "[2, 12000] loss: 1.248\n"
          ]
        },
        {
          "name": "stderr",
          "output_type": "stream",
          "text": [
            "[I 2023-10-02 00:02:00,850] Trial 5 finished with value: 56.42 and parameters: {'lr': 0.0003834088299534484, 'momentum': 0.34735399754049545}. Best is trial 5 with value: 56.42.\n"
          ]
        },
        {
          "name": "stdout",
          "output_type": "stream",
          "text": [
            "[1,  2000] loss: 2.323\n",
            "[1,  4000] loss: 2.297\n",
            "[1,  6000] loss: 2.247\n",
            "[1,  8000] loss: 2.194\n",
            "[1, 10000] loss: 2.172\n",
            "[1, 12000] loss: 2.173\n",
            "[2,  2000] loss: 2.196\n",
            "[2,  4000] loss: 2.221\n",
            "[2,  6000] loss: 2.202\n",
            "[2,  8000] loss: 2.255\n",
            "[2, 10000] loss: 2.224\n",
            "[2, 12000] loss: 2.272\n"
          ]
        },
        {
          "name": "stderr",
          "output_type": "stream",
          "text": [
            "[I 2023-10-02 00:07:10,917] Trial 6 finished with value: 12.72 and parameters: {'lr': 0.0036704212693443802, 'momentum': 0.590181813048091}. Best is trial 5 with value: 56.42.\n"
          ]
        },
        {
          "name": "stdout",
          "output_type": "stream",
          "text": [
            "[1,  2000] loss: 2.090\n",
            "[1,  4000] loss: 1.922\n",
            "[1,  6000] loss: 1.909\n",
            "[1,  8000] loss: 1.911\n",
            "[1, 10000] loss: 1.899\n",
            "[1, 12000] loss: 1.849\n",
            "[2,  2000] loss: 1.865\n",
            "[2,  4000] loss: 1.888\n",
            "[2,  6000] loss: 1.860\n",
            "[2,  8000] loss: 1.885\n",
            "[2, 10000] loss: 1.860\n",
            "[2, 12000] loss: 1.867\n"
          ]
        },
        {
          "name": "stderr",
          "output_type": "stream",
          "text": [
            "[I 2023-10-02 00:09:38,489] Trial 7 finished with value: 33.91 and parameters: {'lr': 0.005090633236591996, 'momentum': 0.07109330727676921}. Best is trial 5 with value: 56.42.\n"
          ]
        },
        {
          "name": "stdout",
          "output_type": "stream",
          "text": [
            "[1,  2000] loss: 2.205\n",
            "[1,  4000] loss: 2.011\n",
            "[1,  6000] loss: 1.928\n",
            "[1,  8000] loss: 1.895\n",
            "[1, 10000] loss: 1.852\n",
            "[1, 12000] loss: 1.825\n",
            "[2,  2000] loss: 1.755\n",
            "[2,  4000] loss: 1.730\n",
            "[2,  6000] loss: 1.702\n",
            "[2,  8000] loss: 1.657\n",
            "[2, 10000] loss: 1.646\n",
            "[2, 12000] loss: 1.635\n"
          ]
        },
        {
          "name": "stderr",
          "output_type": "stream",
          "text": [
            "[I 2023-10-02 00:12:01,408] Trial 8 finished with value: 41.74 and parameters: {'lr': 1.2013364782587717e-05, 'momentum': 0.6911838324822894}. Best is trial 5 with value: 56.42.\n"
          ]
        },
        {
          "name": "stdout",
          "output_type": "stream",
          "text": [
            "[1,  2000] loss: 2.015\n",
            "[1,  4000] loss: 1.810\n",
            "[1,  6000] loss: 1.723\n",
            "[1,  8000] loss: 1.665\n",
            "[1, 10000] loss: 1.675\n",
            "[1, 12000] loss: 1.663\n",
            "[2,  2000] loss: 1.648\n",
            "[2,  4000] loss: 1.629\n",
            "[2,  6000] loss: 1.657\n",
            "[2,  8000] loss: 1.628\n",
            "[2, 10000] loss: 1.626\n",
            "[2, 12000] loss: 1.657\n"
          ]
        },
        {
          "name": "stderr",
          "output_type": "stream",
          "text": [
            "[I 2023-10-02 00:14:31,609] Trial 9 finished with value: 41.73 and parameters: {'lr': 0.0016336373598588702, 'momentum': 0.41628810339249855}. Best is trial 5 with value: 56.42.\n"
          ]
        },
        {
          "name": "stdout",
          "output_type": "stream",
          "text": [
            "Best hyperparameters:\n",
            "{'lr': 0.0003834088299534484, 'momentum': 0.34735399754049545}\n",
            "Best Validation Accuracy: 56.42\n"
          ]
        }
      ],
      "source": [
        "# Define the objective function that Optuna will optimize\n",
        "def objective(trial):\n",
        "    # Defining the search space for hyperparameters\n",
        "    learning_rate = trial.suggest_float(\"lr\", 1e-5, 1e-2, log=True)  # Learning rate\n",
        "    momentum = trial.suggest_float(\"momentum\", 0.0, 1.0)  # Momentum for RMSprop\n",
        "\n",
        "    # Creating a new model and optimizer with the suggested hyperparameters\n",
        "    neural_net = Net()\n",
        "    optimizer = optim.RMSprop(neural_net.parameters(), lr=learning_rate, momentum=momentum)\n",
        "\n",
        "    # Training the loop\n",
        "    for epoch in range(2):\n",
        "        running_loss = 0.0\n",
        "        for k, data_points in enumerate(trainloader, 0):\n",
        "            inputs, labels = data_points\n",
        "            optimizer.zero_grad()\n",
        "            output_values = neural_net(inputs)\n",
        "            loss = criterion(output_values, labels)\n",
        "            loss.backward()\n",
        "            optimizer.step()\n",
        "            running_loss += loss.item()\n",
        "            if k % 2000 == 1999:\n",
        "                print(f'[{epoch + 1}, {k + 1:5d}] loss: {running_loss / 2000:.3f}')\n",
        "                running_loss = 0.0\n",
        "\n",
        "    # Calculating accuracy on the training set\n",
        "    correct_values = 0\n",
        "    total_values = 0\n",
        "    with torch.no_grad():\n",
        "        for data_points in trainloader:\n",
        "            pics, labels = data_points\n",
        "            output_values = neural_net(pics)\n",
        "            _, predicted = torch.max(output_values.data, 1)\n",
        "            total_values += labels.size(0)\n",
        "            correct_values += (predicted == labels).sum().item()\n",
        "    training_accuracy = 100 * correct_values / total_values\n",
        "\n",
        "    # Calculating accuracy on the validation set\n",
        "    correct_values = 0\n",
        "    total_values = 0\n",
        "    with torch.no_grad():\n",
        "        for data_points in testloader:\n",
        "            pics, labels = data_points\n",
        "            output_values = neural_net(pics)\n",
        "            _, predicted = torch.max(output_values.data, 1)\n",
        "            total_values += labels.size(0)\n",
        "            correct_values += (predicted == labels).sum().item()\n",
        "    validation_accuracy = 100 * correct_values / total_values\n",
        "\n",
        "    # Returning the validation accuracy & training accuracy as the objective values to be maximized\n",
        "    return validation_accuracy\n",
        "\n",
        "# Creating an Optuna study and optimize the objective function\n",
        "study = optuna.create_study(direction=\"maximize\")\n",
        "study.optimize(objective, n_trials=10)\n",
        "\n",
        "\n",
        "# Printing the best hyperparameter values and results\n",
        "print(\"Best hyperparameters:\")\n",
        "best_params = study.best_params\n",
        "print(best_params)\n",
        "\n",
        "print(\"Best Validation Accuracy:\", study.best_value)"
      ]
    },
    {
      "cell_type": "code",
      "execution_count": null,
      "metadata": {},
      "outputs": [],
      "source": []
    }
  ],
  "metadata": {
    "kernelspec": {
      "display_name": "Python 3",
      "language": "python",
      "name": "python3"
    },
    "language_info": {
      "codemirror_mode": {
        "name": "ipython",
        "version": 3
      },
      "file_extension": ".py",
      "mimetype": "text/x-python",
      "name": "python",
      "nbconvert_exporter": "python",
      "pygments_lexer": "ipython3",
      "version": "3.11.2"
    }
  },
  "nbformat": 4,
  "nbformat_minor": 0
}
